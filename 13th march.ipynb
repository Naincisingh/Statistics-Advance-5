{
 "cells": [
  {
   "cell_type": "markdown",
   "id": "2533d0b4-56c9-49bc-b3c5-ff54a2310619",
   "metadata": {},
   "source": [
    "QTS.1"
   ]
  },
  {
   "cell_type": "markdown",
   "id": "a813dd8a-98ff-4581-8210-0c9cb025a7f1",
   "metadata": {},
   "source": [
    "Assumptions of ANOVA (Analysis of Variance):\n",
    "\n",
    "1. **Homogeneity of Variances (Homoscedasticity):**\n",
    "   - *Assumption:* Variances of the dependent variable are equal across all groups.\n",
    "   - *Violation Example:* Unequal variances can lead to inaccurate F-statistics and affect the reliability\n",
    "of ANOVA results.\n",
    "\n",
    "2. **Independence of Observations:**\n",
    "   - *Assumption:* Observations within and between groups are independent.\n",
    "   - *Violation Example:* Correlated observations may lead to inflated Type I error rates.\n",
    "\n",
    "3. **Normality of Residuals:**\n",
    "   - *Assumption:* Residuals (the differences between observed and predicted values) are normally distributed.\n",
    "   - *Violation Example:* Skewed or non-normal residuals can impact the accuracy of p-values and \n",
    "confidence intervals.\n",
    "\n",
    "4. **Random Sampling:**\n",
    "   - *Assumption:* Data is collected through random sampling.\n",
    "   - *Violation Example:* Non-random sampling can introduce bias and affect the generalizability of results.\n",
    "\n",
    "Violations of these assumptions can lead to biased or inefficient estimates and compromise the \n",
    "validity of ANOVA results."
   ]
  },
  {
   "cell_type": "markdown",
   "id": "a2cdfb66-fff4-46b7-b0e6-1bf3a1fcbd6f",
   "metadata": {},
   "source": [
    "QTS.2"
   ]
  },
  {
   "cell_type": "markdown",
   "id": "40c50f84-6434-495f-bdd9-b48b86d2dd79",
   "metadata": {},
   "source": [
    "There are three main types of ANOVA:\n",
    "\n",
    "1. **One-Way ANOVA:**\n",
    "   - **Use:** Used when comparing means across two or more independent groups\n",
    "    or levels of a single independent variable. It tests whether there are any \n",
    "    statistically significant differences among the group means.\n",
    "\n",
    "2. **Two-Way ANOVA:**\n",
    "   - **Use:** Appropriate when there are two independent variables (factors) \n",
    "    and their interaction, and you want to examine their combined effects on \n",
    "    the dependent variable. It assesses whether there are significant main effects and interaction effects.\n",
    "\n",
    "3. **Repeated Measures ANOVA:**\n",
    "   - **Use:** Employed when the same subjects are used for each treatment\n",
    "    (within-subject design). It analyzes the differences between the means \n",
    "    of repeated measurements taken under different conditions. Common in \n",
    "    experimental designs where the same subjects are exposed to multiple treatments.\n",
    "\n",
    "In summary:\n",
    "- **One-Way ANOVA:** Used for comparing means across multiple independent groups.\n",
    "- **Two-Way ANOVA:** Used when there are two independent variables and their \n",
    "interaction to analyze their combined effects.\n",
    "- **Repeated Measures ANOVA:** Appropriate for within-subject designs, analyzing\n",
    "repeated measurements under different conditions."
   ]
  },
  {
   "cell_type": "markdown",
   "id": "db2c7030-7bea-4cfe-b5c2-ece20c05cf50",
   "metadata": {},
   "source": [
    "QTS.3"
   ]
  },
  {
   "cell_type": "markdown",
   "id": "a48c01a8-a9b8-45d2-aabf-fb97f2aa1704",
   "metadata": {},
   "source": [
    "The partitioning of variance in ANOVA involves breaking down the total variability \n",
    "in the data into different components attributed to various sources, such as \n",
    "treatment effects and random error. This breakdown helps in understanding the \n",
    "contributions of different factors to the overall\n",
    "variability in the dependent variable. It includes:\n",
    "\n",
    "1. **Between-Group Variance:** Variability between different treatment groups.\n",
    "2. **Within-Group Variance:** Variability within each treatment group.\n",
    "3. **Total Variance:** The overall variability in the entire dataset.\n",
    "\n",
    "Understanding this concept is important because it allows researchers to assess the \n",
    "proportion of total variability that can be attributed to the treatment effects and \n",
    "determine the statistical significance of these effects. It provides insights into \n",
    "whether the observed differences between groups are likely due to the treatments or \n",
    "if they could be explained by random variability."
   ]
  },
  {
   "cell_type": "markdown",
   "id": "17888e6e-c7ba-47ce-8902-ac7695e3ef48",
   "metadata": {},
   "source": [
    "QTS.4"
   ]
  },
  {
   "cell_type": "code",
   "execution_count": 2,
   "id": "2a01ba0f-fea8-4fa6-bbe5-31d004567d9e",
   "metadata": {},
   "outputs": [
    {
     "name": "stdout",
     "output_type": "stream",
     "text": [
      "Total Sum of Squares (SST): 358.6666666666667\n",
      "Explained Sum of Squares (SSE): 298.66666666666663\n",
      "Residual Sum of Squares (SSR): 60.00000000000006\n"
     ]
    }
   ],
   "source": [
    "import scipy.stats as stats\n",
    "import numpy as np\n",
    "\n",
    "# Sample data for three groups\n",
    "group1 = np.array([12, 14, 16, 18])\n",
    "group2 = np.array([20, 22, 24, 26])\n",
    "group3 = np.array([8, 10, 12, 14])\n",
    "\n",
    "# Combine the data into a single array\n",
    "data = np.concatenate([group1, group2, group3])\n",
    "\n",
    "# Calculate ANOVA\n",
    "f_statistic, p_value = stats.f_oneway(group1, group2, group3)\n",
    "\n",
    "# Calculate SST, SSE, SSR\n",
    "overall_mean = np.mean(data)\n",
    "sst = np.sum((data - overall_mean)**2)\n",
    "sse = np.sum([(np.mean(group) - overall_mean)**2 * len(group) for group in [group1, group2, group3]])\n",
    "ssr = sst - sse\n",
    "\n",
    "print(\"Total Sum of Squares (SST):\", sst)\n",
    "print(\"Explained Sum of Squares (SSE):\", sse)\n",
    "print(\"Residual Sum of Squares (SSR):\", ssr)\n"
   ]
  },
  {
   "cell_type": "markdown",
   "id": "ce98c583-ab73-414f-adfe-a153209d452c",
   "metadata": {},
   "source": [
    "QTS.5"
   ]
  },
  {
   "cell_type": "code",
   "execution_count": 4,
   "id": "de3fa564-b98c-4b7c-b76d-f8414725465f",
   "metadata": {},
   "outputs": [
    {
     "name": "stdout",
     "output_type": "stream",
     "text": [
      "Main Effect A: 63.999999999999915\n",
      "Main Effect B: 5.999999999999989\n",
      "Interaction Effect: 2.1742978700154158e-29\n"
     ]
    }
   ],
   "source": [
    "import pandas as pd\n",
    "import statsmodels.api as sm\n",
    "from statsmodels.formula.api import ols\n",
    "\n",
    "# Create a sample dataset\n",
    "data = {'A': [1, 1, 2, 2, 3, 3],\n",
    "        'B': ['X', 'Y', 'X', 'Y', 'X', 'Y'],\n",
    "        'Value': [10, 12, 14, 16, 18, 20]}\n",
    "\n",
    "df = pd.DataFrame(data)\n",
    "\n",
    "# Fit the two-way ANOVA model\n",
    "model = ols('Value ~ A + B + A:B', data=df).fit()\n",
    "\n",
    "# Get the ANOVA table\n",
    "anova_table = sm.stats.anova_lm(model, typ=2)\n",
    "\n",
    "# Extract main effects and interaction effect\n",
    "main_effect_A = anova_table['sum_sq']['A'] / anova_table['df']['A']\n",
    "main_effect_B = anova_table['sum_sq']['B'] / anova_table['df']['B']\n",
    "interaction_effect = anova_table['sum_sq']['A:B'] / anova_table['df']['A:B']\n",
    "\n",
    "print(\"Main Effect A:\", main_effect_A)\n",
    "print(\"Main Effect B:\", main_effect_B)\n",
    "print(\"Interaction Effect:\", interaction_effect)"
   ]
  },
  {
   "cell_type": "markdown",
   "id": "80e16668-de8a-4254-8bbb-992fbf11f022",
   "metadata": {},
   "source": [
    "QTS.6"
   ]
  },
  {
   "cell_type": "markdown",
   "id": "72f18fd8-64a8-4cb1-b54c-a0f9fd70f156",
   "metadata": {},
   "source": [
    "In a one-way ANOVA, the F-statistic is used to test whether there are significant\n",
    "differences among the means of the groups. The associated p-value helps determine the \n",
    "statistical significance of the F-statistic. Here's how to interpret the results:\n",
    "\n",
    "1. **F-Statistic (5.23):**\n",
    "   - The F-statistic measures the ratio of the variance between groups to the \n",
    "    variance within groups. In this case, a larger F-statistic suggests that \n",
    "    the means of at least two groups are different.\n",
    "\n",
    "2. **P-Value (0.02):**\n",
    "   - The p-value is the probability of observing an F-statistic as extreme as \n",
    "    the one calculated, assuming the null hypothesis is true (i.e., assuming \n",
    "                there are no true differences between group means).\n",
    "\n",
    "3. **Conclusion:**\n",
    "   - With a p-value of 0.02, which is less than the commonly chosen \n",
    "    significance level of 0.05, there is evidence to reject the null \n",
    "    hypothesis. This suggests that there are significant differences between at least two of the groups.\n",
    "\n",
    "4. **Interpretation:**\n",
    "   - The differences between group means are statistically significant at \n",
    "    the 0.05 level, indicating that there are likely real differences in the \n",
    "    population means. However, the p-value alone doesn't provide information \n",
    "    about which specific groups differ.\n",
    "\n",
    "In summary, you can conclude that there are significant differences between \n",
    "groups based on the given F-statistic and p-value."
   ]
  },
  {
   "cell_type": "markdown",
   "id": "9440eeb4-be2c-4bdd-8619-ee592086e9a4",
   "metadata": {},
   "source": [
    "QTS.7"
   ]
  },
  {
   "cell_type": "markdown",
   "id": "b6cbe62f-23a4-4a38-aa11-230bb98f8ba1",
   "metadata": {},
   "source": [
    "Handling missing data in repeated measures ANOVA is crucial for obtaining unbiased\n",
    "and valid results. There are several methods to deal with missing data, each with \n",
    "its potential consequences:\n",
    "\n",
    "1. **Listwise Deletion:**\n",
    "   - **Method:** Exclude cases with missing data on any variable.\n",
    "   - **Consequences:** Reduces sample size, potentially leading to loss of statistical\n",
    "power and biased results if missingness is related to the outcome.\n",
    "\n",
    "2. **Pairwise Deletion:**\n",
    "   - **Method:** Analyze all available data for each pairwise comparison.\n",
    "   - **Consequences:** Preserves more data than listwise deletion but can introduce \n",
    "bias if missingness is not completely at random. Results can be based on different \n",
    "subsets of data for different comparisons.\n",
    "\n",
    "3. **Imputation:**\n",
    "   - **Method:** Replace missing values with estimated values based on observed data.\n",
    "   - **Consequences:** Preserves sample size, but the choice of imputation method can \n",
    "introduce bias if the missing data mechanism is not accurately represented. Common \n",
    "imputation methods include mean imputation, regression imputation, or multiple imputation.\n",
    "\n",
    "4. **Missing Completely at Random (MCAR) vs. Missing at Random (MAR) vs. Missing Not at Random (MNAR):**\n",
    "   - **Consequences:** The handling method may depend on the missing data mechanism. \n",
    "    If data are missing completely at random, complete case analysis or imputation \n",
    "    methods can be suitable. If missingness depends on observed variables (MAR), \n",
    "    methods like imputation conditioned on observed data may be appropriate. If data \n",
    "    are missing non-randomly (MNAR), imputation methods might not fully address bias.\n",
    "\n",
    "Choosing the appropriate method depends on the nature and pattern of missing data,\n",
    "as well as the assumptions about the missing data mechanism. It's essential to \n",
    "report how missing data are handled and, if possible, perform sensitivity analyses\n",
    "to assess the impact of different approaches on the results."
   ]
  },
  {
   "cell_type": "markdown",
   "id": "274ec1c4-559f-4560-b572-46fbec8a02c2",
   "metadata": {},
   "source": [
    "QTS.8"
   ]
  },
  {
   "cell_type": "markdown",
   "id": "c6a37457-9483-429c-86f1-35a0de7d31b3",
   "metadata": {},
   "source": [
    "Common post-hoc tests used after ANOVA are employed to determine which specific \n",
    "group differences are significant when the overall ANOVA indicates that there \n",
    "are differences between groups. Here are some common post-hoc tests and when you might use each:\n",
    "\n",
    "1. **Tukey's Honestly Significant Difference (HSD):**\n",
    "   - **Use:** Used when you have equal sample sizes and want to control the familywise error rate.\n",
    "   - **Example:** If you have conducted an ANOVA with three or more groups and find a\n",
    "significant difference, Tukey's HSD can help identify which specific pairs of groups differ significantly.\n",
    "\n",
    "2. **Bonferroni Correction:**\n",
    "   - **Use:** Controls the familywise error rate by adjusting the significance level for individual tests.\n",
    "   - **Example:** If you conduct multiple pairwise comparisons after ANOVA, \n",
    "the Bonferroni correction would be appropriate to avoid inflated Type I error rates.\n",
    "\n",
    "3. **Sidak Correction:**\n",
    "   - **Use:** Similar to Bonferroni, but often less conservative.\n",
    "   - **Example:** When you have multiple pairwise comparisons, and you want to \n",
    "adjust the significance level to maintain an overall alpha level, Sidak correction\n",
    "can be a less stringent alternative to Bonferroni.\n",
    "\n",
    "4. **Duncan's Multiple Range Test:**\n",
    "   - **Use:** Useful when you have unequal sample sizes and want to identify homogeneous subsets of means.\n",
    "   - **Example:** After conducting ANOVA on data with different group sizes, \n",
    "Duncan's test can help identify which groups are significantly different from each other.\n",
    "\n",
    "5. **Scheffé's Method:**\n",
    "   - **Use:** Suitable for situations with unequal sample sizes and provides \n",
    "    a compromise between controlling the Type I error rate and maintaining power.\n",
    "   - **Example:** If you have unequal sample sizes and want a more powerful \n",
    "test at the cost of a less stringent control of Type I errors, Scheffé's method might be appropriate.\n",
    "\n",
    "**Example Situation:**\n",
    "Suppose you conducted an ANOVA comparing the mean scores of three teaching methods.\n",
    "The ANOVA indicates a significant difference. To pinpoint which specific teaching \n",
    "methods differ from each other, you would use a post-hoc test. For example, \n",
    "Tukey's HSD or Bonferroni correction could be employed to perform pairwise \n",
    "comparisons and identify the significant differences between individual teaching methods."
   ]
  },
  {
   "cell_type": "markdown",
   "id": "d09d1a54-efaa-41d9-b14a-73fd579f3013",
   "metadata": {},
   "source": [
    "QTS.9"
   ]
  },
  {
   "cell_type": "code",
   "execution_count": 13,
   "id": "55d89c5b-ef39-4c8e-b25b-1cef805dc53d",
   "metadata": {},
   "outputs": [
    {
     "name": "stdout",
     "output_type": "stream",
     "text": [
      "F-Statistic: 13.865897121724863\n",
      "P-Value: 3.0442952520825844e-06\n",
      "The one-way ANOVA indicates a significant difference between the mean weight loss of the three diets.\n"
     ]
    }
   ],
   "source": [
    "import scipy.stats as stats\n",
    "import numpy as np\n",
    "\n",
    "# Generate example data for three diets\n",
    " # For reproducibility\n",
    "diet_A = np.random.normal(loc=5, scale=2, size=50)\n",
    "diet_B = np.random.normal(loc=7, scale=2, size=50)\n",
    "diet_C = np.random.normal(loc=4, scale=2, size=50)\n",
    "\n",
    "# Perform one-way ANOVA\n",
    "f_statistic, p_value = stats.f_oneway(diet_A, diet_B, diet_C)\n",
    "\n",
    "# Report results\n",
    "print(\"F-Statistic:\", f_statistic)\n",
    "print(\"P-Value:\", p_value)\n",
    "\n",
    "# Interpretation\n",
    "\n",
    "if (p_value < 0.05):\n",
    "    print(\"The one-way ANOVA indicates a significant difference between the mean weight loss of the three diets.\")\n",
    "else:\n",
    "    print(\"There is no significant difference between the mean weight loss of the three diets.\")"
   ]
  },
  {
   "cell_type": "markdown",
   "id": "b5c54877-409d-4f73-9d59-9df1401ebc8f",
   "metadata": {},
   "source": [
    "QTS.10"
   ]
  },
  {
   "cell_type": "code",
   "execution_count": 9,
   "id": "6f440139-2a38-4713-9c93-0b1447d1f09c",
   "metadata": {},
   "outputs": [
    {
     "name": "stdout",
     "output_type": "stream",
     "text": [
      "                          sum_sq    df         F    PR(>F)\n",
      "Software                8.337633   2.0  0.193670  0.824297\n",
      "Experience             31.851905   1.0  1.479736  0.227223\n",
      "Software:Experience    52.479686   2.0  1.219018  0.300694\n",
      "Residual             1808.132913  84.0       NaN       NaN\n",
      "Main Effect Software: 4.168816505478778\n",
      "Main Effect Experience: 31.851905396812533\n",
      "Interaction Effect: 26.23984303358177\n",
      "There is no significant main effect of Software.\n",
      "There is no significant main effect of Experience.\n",
      "There is no significant interaction effect between Software and Experience.\n"
     ]
    }
   ],
   "source": [
    "import pandas as pd\n",
    "import statsmodels.api as sm\n",
    "from statsmodels.formula.api import ols\n",
    "\n",
    "# Create a sample dataset\n",
    "np.random.seed(42)\n",
    "data = {\n",
    "    'Software': np.random.choice(['A', 'B', 'C'], size=90),\n",
    "    'Experience': np.random.choice(['Novice', 'Experienced'], size=90),\n",
    "    'Time': np.random.normal(loc=20, scale=5, size=90)  # Adjust loc and scale as needed\n",
    "}\n",
    "\n",
    "df = pd.DataFrame(data)\n",
    "\n",
    "# Fit the two-way ANOVA model\n",
    "model = ols('Time ~ Software * Experience', data=df).fit()\n",
    "\n",
    "# Get the ANOVA table\n",
    "anova_table = sm.stats.anova_lm(model, typ=2)\n",
    "\n",
    "# Print the ANOVA table\n",
    "print(anova_table)\n",
    "\n",
    "# Extract main effects and interaction effect\n",
    "main_effect_software = anova_table['sum_sq']['Software'] / anova_table['df']['Software']\n",
    "main_effect_experience = anova_table['sum_sq']['Experience'] / anova_table['df']['Experience']\n",
    "interaction_effect = anova_table['sum_sq']['Software:Experience'] / anova_table['df']['Software:Experience']\n",
    "\n",
    "print(\"Main Effect Software:\", main_effect_software)\n",
    "print(\"Main Effect Experience:\", main_effect_experience)\n",
    "print(\"Interaction Effect:\", interaction_effect)\n",
    "\n",
    "# Interpretation\n",
    "alpha = 0.05\n",
    "\n",
    "# Check for main effects\n",
    "if main_effect_software < alpha:\n",
    "    print(\"There is a significant main effect of Software.\")\n",
    "else:\n",
    "    print(\"There is no significant main effect of Software.\")\n",
    "\n",
    "if main_effect_experience < alpha:\n",
    "    print(\"There is a significant main effect of Experience.\")\n",
    "else:\n",
    "    print(\"There is no significant main effect of Experience.\")\n",
    "\n",
    "# Check for interaction effect\n",
    "if interaction_effect < alpha:\n",
    "    print(\"There is a significant interaction effect between Software and Experience.\")\n",
    "else:\n",
    "    print(\"There is no significant interaction effect between Software and Experience.\")\n"
   ]
  },
  {
   "cell_type": "markdown",
   "id": "722fc558-4870-45f3-a252-c7095a8f346c",
   "metadata": {},
   "source": [
    "QTS.11"
   ]
  },
  {
   "cell_type": "code",
   "execution_count": 1,
   "id": "0742cbbd-767f-4a51-b664-33899076ab85",
   "metadata": {},
   "outputs": [
    {
     "name": "stdout",
     "output_type": "stream",
     "text": [
      "t_statistics:1.786027695784668\n",
      "p_value:0.07718756438056777\n",
      "There is no significant difference between the two teaching methods.\n"
     ]
    }
   ],
   "source": [
    "import pandas as pd\n",
    "import numpy as np\n",
    "from scipy import stats\n",
    "\n",
    "data=np.random.randint(1,101,(50,2))\n",
    "new_column_names=['traditional teaching method','new teaching method']\n",
    "df=pd.DataFrame(data,columns=new_column_names)\n",
    "\n",
    "alpha=0.05\n",
    "\n",
    "## implementing 2 sample t-test\n",
    "t_stat,p_value=stats.ttest_ind(df['traditional teaching method'],df['new teaching method'])\n",
    "\n",
    "print(f\"t_statistics:{t_stat}\")\n",
    "print(f\"p_value:{p_value}\")\n",
    "\n",
    "# Interpretation\n",
    "if p_value < alpha:\n",
    "    print(\"The two-sample t-test indicates a significant difference between the two teaching methods.\")\n",
    "else:\n",
    "    print(\"There is no significant difference between the two teaching methods.\")"
   ]
  },
  {
   "cell_type": "markdown",
   "id": "1b57c4db-73ab-49e0-9ebf-33516aa04370",
   "metadata": {},
   "source": [
    "QTS.12"
   ]
  },
  {
   "cell_type": "code",
   "execution_count": 10,
   "id": "0807163d-d12d-4a0b-9d5b-c8af6a5c1706",
   "metadata": {},
   "outputs": [
    {
     "name": "stdout",
     "output_type": "stream",
     "text": [
      "        F Value  Num DF  Den DF    Pr > F\n",
      "Store  3.450612     2.0    58.0  0.038378\n",
      " Multiple Comparison of Means - Tukey HSD, FWER=0.05  \n",
      "======================================================\n",
      " group1  group2 meandiff p-adj   lower   upper  reject\n",
      "------------------------------------------------------\n",
      "Store_A Store_B   5.4275 0.0733 -0.4005 11.2555  False\n",
      "Store_A Store_C  -0.0155    1.0 -5.8434  5.8125  False\n",
      "Store_B Store_C   -5.443 0.0723 -11.271   0.385  False\n",
      "------------------------------------------------------\n"
     ]
    }
   ],
   "source": [
    "import pandas as pd\n",
    "import numpy as np\n",
    "import statsmodels.api as sm\n",
    "from statsmodels.stats.anova import AnovaRM\n",
    "from statsmodels.stats.multicomp import pairwise_tukeyhsd\n",
    "\n",
    "# Generate example data\n",
    "np.random.seed(42)  # for reproducibility\n",
    "data = {\n",
    "    'Store_A': np.random.normal(50, 10, 30),\n",
    "    'Store_B': np.random.normal(55, 12, 30),\n",
    "    'Store_C': np.random.normal(48, 8, 30)\n",
    "}\n",
    "\n",
    "df = pd.DataFrame(data)\n",
    "\n",
    "# Melt the DataFrame to long format for repeated measures ANOVA\n",
    "df_melted = pd.melt(df, var_name='Store', value_name='Sales')\n",
    "\n",
    "# Add a column for the day or time point\n",
    "df_melted['Day'] = np.tile(np.arange(1, 31), len(data.keys()))\n",
    "\n",
    "# Fit repeated measures ANOVA model\n",
    "rm_anova_model = AnovaRM(df_melted, 'Sales', 'Day', within=['Store'])\n",
    "rm_results = rm_anova_model.fit()\n",
    "\n",
    "# Print ANOVA table\n",
    "print(rm_results.anova_table)\n",
    "\n",
    "# Perform post hoc test (Tukey HSD)\n",
    "posthoc = pairwise_tukeyhsd(df_melted['Sales'], df_melted['Store'], alpha=0.05)\n",
    "print(posthoc)\n"
   ]
  },
  {
   "cell_type": "code",
   "execution_count": null,
   "id": "080bf03d-e8dd-4caa-ba1a-f2a6ca819fcf",
   "metadata": {},
   "outputs": [],
   "source": []
  }
 ],
 "metadata": {
  "kernelspec": {
   "display_name": "Python 3 (ipykernel)",
   "language": "python",
   "name": "python3"
  },
  "language_info": {
   "codemirror_mode": {
    "name": "ipython",
    "version": 3
   },
   "file_extension": ".py",
   "mimetype": "text/x-python",
   "name": "python",
   "nbconvert_exporter": "python",
   "pygments_lexer": "ipython3",
   "version": "3.10.8"
  }
 },
 "nbformat": 4,
 "nbformat_minor": 5
}
